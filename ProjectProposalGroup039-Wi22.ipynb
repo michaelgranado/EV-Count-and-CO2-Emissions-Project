{
 "cells": [
  {
   "cell_type": "markdown",
   "metadata": {},
   "source": [
    "# COGS 108 - Final Project Proposal"
   ]
  },
  {
   "cell_type": "markdown",
   "metadata": {},
   "source": [
    "# Names\n",
    "\n",
    "- Anurag Asthana\n",
    "- Michael Granado\n",
    "- Victorionna Tran\n",
    "- Alex Bumbalov\n",
    "- Tianyue (Terry) Zhang"
   ]
  },
  {
   "cell_type": "markdown",
   "metadata": {},
   "source": [
    "#Research Question"
   ]
  },
  {
   "cell_type": "markdown",
   "metadata": {},
   "source": [
    "Has the increased use of electric vehicles decreased overall carbon emissions produced by cars? How does the impact of electric vehicles in this aspect compare to the impacts of renewable energy?"
   ]
  },
  {
   "cell_type": "markdown",
   "metadata": {},
   "source": [
    "## Background and Prior Work"
   ]
  },
  {
   "cell_type": "markdown",
   "metadata": {},
   "source": [
    "*Fill in your background and prior work here. Be sure to specify which statements are from which references.* \n",
    "\n",
    "References (include links):\n",
    "- 1)\n",
    "- 2)"
   ]
  },
  {
   "cell_type": "markdown",
   "metadata": {},
   "source": [
    "# Hypothesis\n"
   ]
  },
  {
   "cell_type": "markdown",
   "metadata": {},
   "source": [
    "*State and defend your hypotheses here.*"
   ]
  },
  {
   "cell_type": "markdown",
   "metadata": {},
   "source": [
    "# Data"
   ]
  },
  {
   "cell_type": "markdown",
   "metadata": {},
   "source": [
    "*Explain what the ideal dataset you would want to answer this question. (This should include: What variables? How many observations? Who/what/how would these data be collected? How would these data be stored/organized?)*"
   ]
  },
  {
   "cell_type": "markdown",
   "metadata": {},
   "source": [
    "# Ethics & Privacy"
   ]
  },
  {
   "cell_type": "markdown",
   "metadata": {},
   "source": [
    "*Fill in your ethics & privacy discussion here*"
   ]
  },
  {
   "cell_type": "markdown",
   "metadata": {},
   "source": [
    "# Team Expectations "
   ]
  },
  {
   "cell_type": "markdown",
   "metadata": {},
   "source": [
    "* Reliably communicate with one another about project guidlines, work assigned, and unexpected situations.\n",
    "* Make sure that everyone is aware of project deadlines.\n",
    "* Contribute to the project in any way that you think would be useful.\n",
    "* If you are stuck, please let other group members and/or a TA/Instructor know.\n",
    "* Don't be afraid to express any ideas you may have.\n",
    "* Stick to promised task completion so that other group members can plan around it.\n",
    "* Start early, start often.\n",
    "* Consistently have team meetings or check ins to keep track of everyone's progress.\n"
   ]
  },
  {
   "cell_type": "markdown",
   "metadata": {},
   "source": [
    "# Project Timeline Proposal"
   ]
  },
  {
   "cell_type": "markdown",
   "metadata": {},
   "source": [
    "| Meeting Date  | Meeting Time| Completed Before Meeting  | Discuss at Meeting |\n",
    "|---|---|---|---|\n",
    "| 1/23  |  1 PM | Read & Think about COGS 108 expectations; brainstorm topics/questions  | Determine best form of communication; Discuss and decide on final project topic; discuss hypothesis; begin background research | \n",
    "| 1/27  |  1 PM | Do background research on topic, Form hypothesis, Outline ideal datasets, Wrtie out ethics/privacy section | Review overall project proposal and submit if it's good, otherwise meet with TA on 1/28 | \n",
    "| 1/30  |  1 PM | Search for datasets (Everyone) | Discuss Wrangling and possible analytical approaches; Assign group members to lead each specific part   |\n",
    "| 2/6   |  1 PM | Start data wrangling on datasets | Review/Edit wrangling/EDA; Discuss Analysis Plan  |\n",
    "| 2/10  |  1 PM | Prepare everything needed for Checkpoint 1 | Finalize all of the items for Checkpoint 1, ask TA for help on 2/11 if necessary |\n",
    "| 2/13  |  1 PM | Start working on the EDA | Discuss direction of analysis for the EDA |\n",
    "| 2/20  |  1 PM | Finish EDA, begin formulating conclusions | Finalize EDA |",
    "| 2/24  |  1 PM | Prepare everything neede for Checkpoint 2 | Finalize all of the items for Checkpoint 2, ask TA for help on 2/25 if necessary |\n",
    "| 2/27  |  1 PM | Make data visualizations | Discuss and work on data visualizations as well as video |\n",
    "| 3/6   |  1 PM | Formulate conclusions, work on video | Finalize conclusion and finish the video |\n",
    "| 3/13  |  1 PM | Finish up the rest of the project and the video | Finalize everything and submit |\n"
   ]
  }
 ],
 "metadata": {
  "kernelspec": {
   "display_name": "Python 3",
   "language": "python",
   "name": "python3"
  },
  "language_info": {
   "codemirror_mode": {
    "name": "ipython",
    "version": 3
   },
   "file_extension": ".py",
   "mimetype": "text/x-python",
   "name": "python",
   "nbconvert_exporter": "python",
   "pygments_lexer": "ipython3",
   "version": "3.7.9"
  }
 },
 "nbformat": 4,
 "nbformat_minor": 2
}
