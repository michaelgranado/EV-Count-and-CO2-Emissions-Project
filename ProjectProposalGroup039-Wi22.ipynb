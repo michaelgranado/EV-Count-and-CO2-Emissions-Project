{
 "cells": [
  {
   "cell_type": "markdown",
   "metadata": {},
   "source": [
    "# COGS 108 - Final Project Proposal"
   ]
  },
  {
   "cell_type": "markdown",
   "metadata": {},
   "source": [
    "# Names\n",
    "\n",
    "- Anurag Asthana\n",
    "- Michael Granado\n",
    "- Victorionna Tran\n",
    "- Alex Bumbalov\n",
    "- Tianyue (Terry) Zhang"
   ]
  },
  {
   "cell_type": "markdown",
   "metadata": {},
   "source": [
    "# Research Question"
   ]
  },
  {
   "cell_type": "markdown",
   "metadata": {},
   "source": [
    "Is there a realtionship between the total number of electric vehicles for an area and its total carbon emission count? If so, does this relationship change by the area's amount of renewable energy?"
   ]
  },
  {
   "cell_type": "markdown",
   "metadata": {},
   "source": [
    "## Background and Prior Work"
   ]
  },
  {
   "cell_type": "markdown",
   "metadata": {},
   "source": [
    "**Introduction** \n",
    "\n",
    "When it comes to the transportation industry, there tends to be a unanimous opinion that electric vehicles are a healthier option for the environment due to their lack of tailpipe emissions. However, recent concerns have been drawn towards the indirect emissions caused by electric vehicles. The production of materials used for electric vehicles such as lithium-ion batteries is extremely environmentally detrimental. Additionally, electric vehicles must constantly charge their batteries with electricity straight from fossil-fuel consuming power grids. Despite these facts, almost all environmentalists agree that long-term fossil-fuel emissions caused by electric vehicles are significantly less than those of traditional vehicles. In our study, we are attempting to see if a relationship exists between the amount of electric vehicles and total amount of carbon emissions.\n",
    "\n",
    "**Prior Work** \n",
    "\n",
    "Similar studies have been conducted before, but only focus on the relationship between a single electric vehicle and its fossil fuel emissions. One such study in the U.S. by the Yale School of Environment (1) details that emissions from electricity and battery production pales in comparison to gasoline production use. This is believed to have been due to the U.S efforts to continually decarbonize its electricity supply with renewable energy. For this reason, some exports have expressed doubt about electric vehicle efficiency in areas with a less decarbonized electric grid.\n",
    "\n",
    "A 2021 article from CNBC (2) seems to agree with the findings of the Yale School of Environment. The article summarizes several studies highlighting points of concern in relation to indirect emissions from electric vehicles. In terms of the efficiency of electricity and gasoline, the article cites one study determining that over its lifetime an electric vehicle produces a much lower carbon footprint than that of a traditional gas-powered vehicle. The article also highlights the fact that electric vehicles can only get more efficient with the increase of renewable energy. In terms of production, the article cites that producing electric vehicles is determined to be significantly more costly than producing petrol vehicles mostly due to the emission cost of producing lithium-ion batteries. However, the efficiency of electric vehicles is determined to be so superior that over time this deficit is offset.\n",
    "\n",
    "While these two articles present significant evidence to support a correlation between an electric vehicle and less carbon emissions, it does not fully answer our question. Developing new electric vehicles is very costly in terms of carbon emissions, and the influx of these new vehicles can definitely have a significant impact on the environment. Even though new electric vehicles are being produced does not mean gas-powered vehicles are being replaced. Additionally, another factor is that the majority of the U.S. power grid is still fossil-fuel powered. Until more of the grid becomes renewable energy a correlation of electric vehicle number and carbon emissions cannot completely be inferred.\n",
    "\n",
    "**References:**\n",
    "- 1) https://environment.yale.edu/news/article/yse-study-finds-electric-vehicles-provide-lower-carbon-emissions-through-additional\n",
    "- 2) https://www.cnbc.com/2021/07/26/lifetime-emissions-of-evs-are-lower-than-gasoline-cars-experts-say.html\n"
   ]
  },
  {
   "cell_type": "markdown",
   "metadata": {},
   "source": [
    "# Hypothesis\n"
   ]
  },
  {
   "cell_type": "markdown",
   "metadata": {},
   "source": [
    "In our study, we hypothesized that there is indeed a relationship between the number of electric vehicles and total carbon emissions. In particular, we believe that the greater the number of electric vehicles in a state, the lower the number of total carbon emissions for that state. We base this hypothesis off of the evidence in support of electric vehicles lifetime efficacy versus that of gas-powered vehicles."
   ]
  },
  {
   "cell_type": "markdown",
   "metadata": {},
   "source": [
    "# Data"
   ]
  },
  {
   "cell_type": "markdown",
   "metadata": {},
   "source": [
    "1. - Variable: **Annual number of EV (electric vehicle) registered in CA** (2011-2018)\n",
    "   - Data Table: California State EV Registration Data (> 1,000,000 rows) https://www.atlasevhub.com/public/dmv/ca_ev_registrations_public.csv \n",
    "   - Collect: As each row representing a registered EV, for each year, we select all the rows related to that year (also we need to goup each year's EV by model for later analysis)\n",
    "2. - Variable: **Annual CO2 emissions by cars in CA** (1980-2018) \n",
    "   - Data Table: Transportation energy-related carbon dioxide emissions by state (~ 50 rows) https://www.eia.gov/environment/emissions/state/excel/transportation.xlsx\n",
    "   - Collect: As each row represents a state, we only select the row representing CA. Then, each column of the selected row represents CO2 emissions of cars in that year\n",
    "3. - Variable: **Annual CO2 emissions by producing electric power in CA** (1990-2020)\n",
    "   - Data Table: U.S. Electric Power Industry Estimated Emissions by State (~ 50,000 rows) https://www.eia.gov/electricity/data/state/emission_annual.xlsx\n",
    "   - Collect: For each year, select all rows representing CA, and accumulate all the values in the columns called CO2\n",
    "4. - Variable: **Annual electric power generated in CA** (1990-2020)\n",
    "   - Data Table: Net Generation by State by Type of Producer by Energy Source (~ 50,000 rows) https://www.eia.gov/electricity/data/state/annual_generation_state.xls\n",
    "   - Collect: For each year, select all rows representing CA, and accumulate all the values in the columns called GENERATION. Then, let **CO2 emissions by per unit of electricity generated in CA (different by years)** = Annual CO2 emissions by producing electric power in CA / Annual electric power generated in CA\n",
    "5. - Variable: **Annual estimated electricity consumption of EV in CA** (2011-2018)\n",
    "   - Data Table: Energy consumption of full-electric vehicles (~ 200 rows) https://ev-database.org/cheatsheet/energy-consumption-electric-car\n",
    "   - Collect: For each model of EV, get the estimated electricity consumption per mile (also we need to know the estimated annual miles of each EV)\n",
    "  \n",
    "Then, let **Annual CO2 emissions by one EV in CA (different by models)** = CO2 emissions by per unit of electricity generated in CA * estimated electricity consumption per mile of that model * estimated annual miles \n",
    "\n",
    "By assumption, the **_only carbon dioxide emissions generated by EV is from the electricity it comsumes_**  \n",
    "Then, let **Annual CO2 emissions by all EV with a specific model in CA** = Number of EV with the given model registered in that year * Annual CO2 emissions by one EV with the given model in CA     \n",
    "Next, let **Annual CO2 emissions by all EV in CA** = sum (Annual CO2 emissions by all EV with a specific model) for all models\n",
    "      \n",
    "Finally, we can fix the original annual CO2 emissions of cars in CA by adding the annual CO2 emissions generated of EV in CA,  \n",
    "and we can visualize how the real dioxide emissions variation as the years increase\n",
    " "
   ]
  },
  {
   "cell_type": "markdown",
   "metadata": {},
   "source": [
    "# Ethics & Privacy"
   ]
  },
  {
   "cell_type": "markdown",
   "metadata": {},
   "source": [
    "Our research is not intended to persuade/dissuade the purchase of electric vehicles and is not to be used for commercial purposes. However we cannot ensure that our research will not pose any influence on individuals who come across it, therefore we will do our best to use unbiased language and collect data from unbiased sources. The data we need to answer our research question does not compromise the privacy of any individual persons. Data on electric car sales and global car emissions are widely available to the public. One issue that could come up with our current research question is the possible assumptions that people could make based on our analysis findings. For example, a reader could assume that by finding evidence to support the claim of electric vehicle use decreasing the overall carbon emissions of cars we are implying that electric car use is a consequence free way to decrease our environmental impact. This is not the case as there are countless additional factors involved in electric car production that have their own negative impact on the environment. We will be doing an analysis strictly between the data we mention and our intention is to answer a question, not to make a point in support or opposition of electric vehicle use as a way to decrease carbon emissions. Another thing to note, is that there is always the concern of the organization that collected our data having their own biases and thus creating issues when analyzing the data. This should be known at the time of choosing our data source and should force us to discuss what any of these potential biases could be and to not use a given data set if we find one that brings any sort of ethics or privacy issues. This discussion of data sources should also extend to discussing the authenticity of the data. We need to do everything in our power to ensure our data is reliable and bias free before we begin any form of analysis."
   ]
  },
  {
   "cell_type": "markdown",
   "metadata": {},
   "source": [
    "# Team Expectations "
   ]
  },
  {
   "cell_type": "markdown",
   "metadata": {},
   "source": [
    "* Reliably communicate with one another about project guidlines, work assigned, and unexpected situations.\n",
    "* Make sure that everyone is aware of project deadlines.\n",
    "* Contribute to the project in any way that you think would be useful.\n",
    "* If you are stuck, please let other group members and/or a TA/Instructor know.\n",
    "* Don't be afraid to express any ideas you may have.\n",
    "* Stick to promised task completion so that other group members can plan around it.\n",
    "* Start early, start often.\n",
    "* Consistently have team meetings or check ins to keep track of everyone's progress.\n"
   ]
  },
  {
   "cell_type": "markdown",
   "metadata": {},
   "source": [
    "# Project Timeline Proposal"
   ]
  },
  {
   "cell_type": "markdown",
   "metadata": {},
   "source": [
    "| Meeting Date  | Meeting Time| Completed Before Meeting  | Discuss at Meeting |\n",
    "|---|---|---|---|\n",
    "| 1/23  |  1 PM | Read & Think about COGS 108 expectations; brainstorm topics/questions  | Determine best form of communication; Discuss and decide on final project topic; discuss hypothesis; begin background research | \n",
    "| 1/27  |  1 PM | Do background research on topic, Form hypothesis, Outline ideal datasets, Wrtie out ethics/privacy section | Review overall project proposal and submit if it's good, otherwise meet with TA on 1/28 | \n",
    "| 1/30  |  1 PM | Search for datasets (Everyone) | Discuss Wrangling and possible analytical approaches; Assign group members to lead each specific part   |\n",
    "| 2/6   |  1 PM | Start data wrangling on datasets | Review/Edit wrangling/EDA; Discuss Analysis Plan  |\n",
    "| 2/10  |  1 PM | Prepare everything needed for Checkpoint 1 | Finalize all of the items for Checkpoint 1, ask TA for help on 2/11 if necessary |\n",
    "| 2/13  |  1 PM | Start working on the EDA | Discuss direction of analysis for the EDA |\n",
    "| 2/20  |  1 PM | Finish EDA, begin formulating conclusions | Finalize EDA |\n",
    "| 2/24  |  1 PM | Prepare everything neede for Checkpoint 2 | Finalize all of the items for Checkpoint 2, ask TA for help on 2/25 if necessary |\n",
    "| 2/27  |  1 PM | Make data visualizations | Discuss and work on data visualizations as well as video |\n",
    "| 3/6   |  1 PM | Formulate conclusions, work on video | Finalize conclusion and finish the video |\n",
    "| 3/13  |  1 PM | Finish up the rest of the project and the video | Finalize everything and submit |\n"
   ]
  }
 ],
 "metadata": {
  "kernelspec": {
   "display_name": "Python 3",
   "language": "python",
   "name": "python3"
  },
  "language_info": {
   "codemirror_mode": {
    "name": "ipython",
    "version": 3
   },
   "file_extension": ".py",
   "mimetype": "text/x-python",
   "name": "python",
   "nbconvert_exporter": "python",
   "pygments_lexer": "ipython3",
   "version": "3.7.9"
  }
 },
 "nbformat": 4,
 "nbformat_minor": 2
}
