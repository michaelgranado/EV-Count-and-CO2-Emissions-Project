{
 "cells": [
  {
   "cell_type": "markdown",
   "metadata": {},
   "source": [
    "# COGS 108 - Final Project Proposal"
   ]
  },
  {
   "cell_type": "markdown",
   "metadata": {},
   "source": [
    "# Names\n",
    "\n",
    "- Anurag Asthana\n",
    "- Michael Granado\n",
    "- Victorionna Tran\n",
    "- Alex Bumbalov\n",
    "- Tianyue (Terry) Zhang"
   ]
  },
  {
   "cell_type": "markdown",
   "metadata": {},
   "source": [
    "# Research Question"
   ]
  },
  {
   "cell_type": "markdown",
   "metadata": {},
   "source": [
    "Is there a relationship between a state's number of electric vehicles and its total carbon emission count? Furthermore, how does a state's electric vehicle amount affect carbon emission amounts in regards to the state's electricity and petroleum energy-subsectors? "
   ]
  },
  {
   "cell_type": "markdown",
   "metadata": {},
   "source": [
    "## Background and Prior Work"
   ]
  },
  {
   "cell_type": "markdown",
   "metadata": {},
   "source": [
    "**Introduction** \n",
    "\n",
    "When it comes to the transportation industry, there tends to be a unanimous opinion that electric vehicles are a healthier option for the environment due to their lack of tailpipe emissions. However, recent concerns have been drawn towards the indirect emissions caused by electric vehicles. The production of materials used for electric vehicles such as lithium-ion batteries is extremely environmentally detrimental. Additionally, electric vehicles must constantly charge their batteries with electricity straight from fossil-fuel consuming power grids. Despite these facts, almost all environmentalists agree that long-term fossil-fuel emissions caused by electric vehicles are significantly less than those of traditional vehicles. In our study, we are attempting to see if a relationship exists between the amount of electric vehicles and total amount of carbon emissions.\n",
    "\n",
    "**Prior Work** \n",
    "\n",
    "Similar studies have been conducted before, but only focus on the relationship between a single electric vehicle and its fossil fuel emissions. One such study in the U.S. by the Yale School of Environment (1) details that emissions from electricity and battery production pales in comparison to gasoline production use. This is believed to have been due to the U.S efforts to continually decarbonize its electricity supply with renewable energy. For this reason, some exports have expressed doubt about electric vehicle efficiency in areas with a less decarbonized electric grid.\n",
    "\n",
    "A 2021 article from CNBC (2) seems to agree with the findings of the Yale School of Environment. The article summarizes several studies highlighting points of concern in relation to indirect emissions from electric vehicles. In terms of the efficiency of electricity and gasoline, the article cites one study determining that over its lifetime an electric vehicle produces a much lower carbon footprint than that of a traditional gas-powered vehicle. The article also highlights the fact that electric vehicles can only get more efficient with the increase of renewable energy. In terms of production, the article cites that producing electric vehicles is determined to be significantly more costly than producing petrol vehicles mostly due to the emission cost of producing lithium-ion batteries. However, the efficiency of electric vehicles is determined to be so superior that over time this deficit is offset.\n",
    "\n",
    "While these two articles present significant evidence to support a correlation between an electric vehicle and less carbon emissions, it does not fully answer our question. Developing new electric vehicles is very costly in terms of carbon emissions, and the influx of these new vehicles can definitely have a significant impact on the environment. Even though new electric vehicles are being produced does not mean gas-powered vehicles are being replaced. Additionally, another factor is that the majority of the U.S. power grid is still fossil-fuel powered. Until more of the grid becomes renewable energy a correlation of electric vehicle number and carbon emissions cannot completely be inferred.\n",
    "\n",
    "**References:**\n",
    "- 1) https://environment.yale.edu/news/article/yse-study-finds-electric-vehicles-provide-lower-carbon-emissions-through-additional\n",
    "- 2) https://www.cnbc.com/2021/07/26/lifetime-emissions-of-evs-are-lower-than-gasoline-cars-experts-say.html\n"
   ]
  },
  {
   "cell_type": "markdown",
   "metadata": {},
   "source": [
    "# Hypothesis\n"
   ]
  },
  {
   "cell_type": "markdown",
   "metadata": {},
   "source": [
    "In our study, we hypothesize that there is indeed a relationship between the number of electric vehicles and total carbon emissions. In particular, due to electric-powered vehicles’ superiority in energy efficiency versus that of petroleum-powered vehicles, we believe that a greater number of electric vehicles in a state corresponds to a lower number of total carbon emissions for that state. We also hypothesize that the increase of electric vehicles signals a greater distribution of total vehicles for a state, and in turn will increase the state’s electric-energy carbon emissions while decreasing its petroleum-energy carbon emissions."
   ]
  },
  {
   "cell_type": "markdown",
   "metadata": {},
   "source": [
    "# Data"
   ]
  },
  {
   "cell_type": "markdown",
   "metadata": {},
   "source": [
    "- Annual number of EVs (electric vehicles) registered by state(2011-2020)\n",
    "   - https://www.atlasevhub.com/materials/state-ev-registration-data/#data \n",
    "   - 16 datasets and each data set corresponds to a specific state\n",
    "   -  Over 1,000,000 observations per dataset\n",
    "   - There are 16 different datasets corresponding to 16 different states. Each of these datasets contains over 1,000,000 EV observations that contain information from variables including the vehicle registration year and model. There are specifically 16 states because only 16 states have had their information made public through the Open Vehicle Registration Initiative. We hope to make our own single dataset from these 16 datasets. Our single custom dataset will have 16 observations for each of the 16 states. The goal is to create 10 variables for each year 2011-2020 which display the count of registered EVs and correspond these to the 16 observations corresponding to the documented states. \n",
    "\n",
     " \n",
    "- Annual energy-related CO2 emmissions by state(2000-2018)\n",
    "   - https://www.eia.gov/environment/emissions/state/excel/table2.xlsx \n",
    "   - 50 observations(1 per state)\n",
    "   - This dataset contains an observation for each of the 50 U.S. states. Variables span from the years 2000-2018 and describe the million metric tons of carbon dioxide produced by energy production. We can trim this dataset down to the 16 states EV registration data about. Then, we can merge this dataset with the dataset containing EV registrations.\n",
    " \n",
     " \n",
    "- Annual electricity energy-related carbon dioxide emissions by state(1980-2018)\n",
    "   - https://www.eia.gov/environment/emissions/state/excel/electricity.xlsx \n",
    "   - 50 observations(1 per state)\n",
    "   - This dataset contains an observation for each of the 50 U.S. states. Variables span from the years 1980-2018 and describe the million metric tons of carbon dioxide specifically produced by electric energy production. We can trim this dataset down to the 16 state observations recorded in the other datasets. Then, this dataset can be merged with the others.\n",
    "\n",
     " \n",
    "- Annual electricity petroleum-related carbon dioxide emissions by state(1980-2018)\n",
    "   - https://www.eia.gov/environment/emissions/state/excel/petroleum.xlsx \n",
    "   - 50 observations(1 per state)\n",
    "   - This dataset contains an observation for each of the 50 U.S. states. Variables span from the years 1980-2018 and describe the million metric tons of carbon dioxide specifically produced by petroleum energy production. We can trim this dataset down to the 16 state observations recorded in the other datasets. Then, this dataset can be merged with the others.\n",
    "  \n",
    "\n",
    "**Combining Datasets:** Our end goal is have our own complete custom dataset which contains 128. We choose 128 observations because we will have 16 states and 8 years ranging from 2011-2018 associated with each state. We choose 16 states because those states have the public EV registration data. We choose the years 2011-2018 because these years are commonly intersected among all datasets. Our variables will consist of number of EV registered, metric million tons of energy-related CO2 emmissions, metric million tons of electricity energy-related carbon dioxide emissions, and metric million tons of petroleum energy-related carbon dioxide emissions."
   ]
  },
  {
   "cell_type": "markdown",
   "metadata": {},
   "source": [
    "# Ethics & Privacy"
   ]
  },
  {
   "cell_type": "markdown",
   "metadata": {},
   "source": [
    "Our research is not intended to persuade/dissuade the purchase of electric vehicles and is not to be used for commercial purposes. However, we cannot ensure that our research will not pose any influence on individuals who come across it. Therefore, all data used is collected by the government and publicly available. Vehicle registration data is completely anonymous and does not compromise the privacy of any individual persons. The publicly available vehicle registration data has been explicitly released by the DMV so no identifiable information such as names, addresses, and license plates is present. Data on U.S. states' carbon emissions is collected by the United States government and is widely available to the public. Additionally, all collected data counteracts bias due to the fact that it is based on reported findings rather than surveys. \n",
    "\n",
    "We would like to make clear that our research is not intended to persuade or dissuade in terms of purchasing an electric vehicle. In terms of any analytical finds, it is important to remember that there are countless additional factors involved in the growth or decrease in carbon emissions. Different factors such as construction or implementation of renewable energy all have an impact on a state’s yearly carbon emissions. We will be doing an analysis strictly on the data we mention and our intention is to answer a question, not to make a point in support or opposition of electric vehicle use as a way to decrease carbon emissions. "
   ]
  },
  {
   "cell_type": "markdown",
   "metadata": {},
   "source": [
    "# Team Expectations "
   ]
  },
  {
   "cell_type": "markdown",
   "metadata": {},
   "source": [
    "* Reliably communicate with one another about project guidlines, work assigned, and unexpected situations.\n",
    "* Make sure that everyone is aware of project deadlines.\n",
    "* Contribute to the project in any way that you think would be useful.\n",
    "* If you are stuck, please let other group members and/or a TA/Instructor know.\n",
    "* Don't be afraid to express any ideas you may have.\n",
    "* Stick to promised task completion so that other group members can plan around it.\n",
    "* Start early, start often.\n",
    "* Consistently have team meetings or check ins to keep track of everyone's progress.\n"
   ]
  },
  {
   "cell_type": "markdown",
   "metadata": {},
   "source": [
    "# Project Timeline Proposal\n",
    "**Weekly Tasks Will Be Assigned On A Meeting-by-Meeting Basis**"
   ]
  },
  {
   "cell_type": "markdown",
   "metadata": {},
   "source": [
    "| Meeting Date  | Meeting Time| Completed Before Meeting  | Discuss at Meeting |\n",
    "|---|---|---|---|\n",
    "| 1/23  |  1 PM | Read & Think about COGS 108 expectations; brainstorm topics/questions  | Determine best form of communication; Discuss and decide on final project topic; discuss hypothesis; begin background research | \n",
    "| 1/27  |  1 PM | Do background research on topic, Form hypothesis, Outline ideal datasets, Write out ethics/privacy section | Review overall project proposal and submit if it's good, otherwise meet with TA on 1/28 | \n",
    "| 1/30  |  1 PM | Search for datasets | Discuss Wrangling and possible analytical approaches; Assign group members to lead each specific part   |\n",
    "| 2/6   |  1 PM | Start data wrangling on datasets | Review/Edit wrangling/EDA; Discuss Analysis Plan  |\n",
    "| 2/10  |  1 PM | Prepare everything needed for Checkpoint 1 | Finalize all of the items for Checkpoint 1, ask TA for help on 2/11 if necessary |\n",
    "| 2/13  |  1 PM | Start working on the EDA | Discuss direction of analysis for the EDA |\n",
    "| 2/20  |  1 PM | Finish EDA, begin formulating conclusions | Finalize EDA |\n",
    "| 2/24  |  1 PM | Prepare everything needed for Checkpoint 2 | Finalize all of the items for Checkpoint 2, ask TA for help on 2/25 if necessary |\n",
    "| 2/27  |  1 PM | Make data visualizations | Discuss and work on data visualizations as well as video |\n",
    "| 3/6   |  1 PM | Formulate conclusions, work on video | Finalize conclusion and finish the video |\n",
    "| 3/13  |  1 PM | Finish up the rest of the project and the video | Finalize everything and submit |\n"
   ]
  }
 ],
 "metadata": {
  "kernelspec": {
   "display_name": "Python 3",
   "language": "python",
   "name": "python3"
  },
  "language_info": {
   "codemirror_mode": {
    "name": "ipython",
    "version": 3
   },
   "file_extension": ".py",
   "mimetype": "text/x-python",
   "name": "python",
   "nbconvert_exporter": "python",
   "pygments_lexer": "ipython3",
   "version": "3.7.9"
  }
 },
 "nbformat": 4,
 "nbformat_minor": 2
}
