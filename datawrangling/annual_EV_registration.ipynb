{
 "cells": [
  {
   "cell_type": "code",
   "execution_count": 2,
   "metadata": {},
   "outputs": [
    {
     "name": "stdout",
     "output_type": "stream",
     "text": [
      "Connecticut only has data in [2011 2012 2013 2014 2015 2016 2018] among the period 2011-2018\n",
      "Florida only has data in [2018] among the period 2011-2018\n",
      "Michigan only has data in [2013 2014 2015 2016 2017 2018] among the period 2011-2018\n",
      "New Jersey only has data in [2017 2018] among the period 2011-2018\n",
      "Oregon only has data in [] among the period 2011-2018\n",
      "Tennessee only has data in [] among the period 2011-2018\n",
      "Texas only has data in [] among the period 2011-2018\n",
      "Wisconsin only has data in [2018] among the period 2011-2018\n",
      "        State  2011   2012   2013    2014    2015    2016    2017    2018\n",
      "0  California  5857  18356  52427  108939  166168  230171  322762  448567\n",
      "1    Colorado   308   1046   2529    4129    6062    8958   13180   18020\n",
      "2     Montana    10     18     28      43      52      59     132     866\n",
      "3   Minnesota    12     28     67      77     148    1508    3377   16825\n",
      "4    New York  2231   7977  10541   43608   43562   99669  263332  509295\n",
      "5     Vermont    20    104    187     160     401    1104    2060    1974\n",
      "6    Virginia    37     30     45      37     291    2596   12441   19466\n",
      "7  Washington  2454   4919  12814   17769   23206   30696   39872   59276\n"
     ]
    }
   ],
   "source": [
    "import pandas as pd\n",
    "states = [\"California\", \"Colorado\", \"Connecticut\", \"Florida\", \"Montana\", \"Michigan\", \"Minnesota\", \"New Jersey\", \n",
    "          \"New York\", \"Oregon\", \"Tennessee\", \"Texas\", \"Vermont\", \"Virginia\", \"Washington\", \"Wisconsin\"]\n",
    "tables = [\"https://www.atlasevhub.com/public/dmv/ca_ev_registrations_public.csv\",\n",
    "          \"https://www.atlasevhub.com/public/dmv/co_ev_registrations_public.csv\",\n",
    "          \"https://www.atlasevhub.com/public/dmv/ct_ev_registrations_public.csv\",\n",
    "          \"https://www.atlasevhub.com/public/dmv/fl_ev_registrations_public.csv\",\n",
    "          \"https://www.atlasevhub.com/public/dmv/mt_ev_registrations_public.csv\",\n",
    "          \"https://www.atlasevhub.com/public/dmv/mi_ev_registrations_public.csv\",\n",
    "          \"https://www.atlasevhub.com/public/dmv/mn_ev_registrations_public.csv\",\n",
    "          \"https://www.atlasevhub.com/public/dmv/nj_ev_registrations_public.csv\",\n",
    "          \"https://www.atlasevhub.com/public/dmv/ny_ev_registrations_public.csv\",\n",
    "          \"https://www.atlasevhub.com/public/dmv/or_ev_registrations_public.csv\",\n",
    "          \"https://www.atlasevhub.com/public/dmv/tn_ev_registrations_public.csv\",\n",
    "          \"https://www.atlasevhub.com/public/dmv/tx_ev_registrations_public.csv\",\n",
    "          \"https://www.atlasevhub.com/public/dmv/vt_ev_registrations_public.csv\",\n",
    "          \"https://www.atlasevhub.com/public/dmv/va_ev_registrations_public.csv\",\n",
    "          \"https://www.atlasevhub.com/public/dmv/wa_ev_registrations_public.csv\",\n",
    "          \"https://www.atlasevhub.com/public/dmv/wi_ev_registrations_public.csv\",]\n",
    "column_names = [\"State\", \"2011\", \"2012\", \"2013\", \"2014\", \"2015\", \"2016\", \"2017\", \"2018\"]\n",
    "EV_registration = pd.DataFrame(columns = column_names)\n",
    "for i in range(16):\n",
    "    table = pd.read_csv(tables[i], low_memory=False)\n",
    "    table[\"Registration Valid Date\"] = pd.to_datetime(table[\"Registration Valid Date\"])\n",
    "    table[\"Registration Valid Date\"] = table[\"Registration Valid Date\"].dt.year\n",
    "    table = table[table['Registration Valid Date'].notna()]\n",
    "    table[\"Registration Valid Date\"].astype(\"int\").dtypes\n",
    "    table = table[(table[\"Registration Valid Date\"] >= 2011) & (table[\"Registration Valid Date\"] <= 2018)]\n",
    "    table = table.sort_values(by='Registration Valid Date')\n",
    "    annual_registration_amount = table[\"Registration Valid Date\"].value_counts(sort = False).tolist()\n",
    "    if len(annual_registration_amount) == 8:\n",
    "        newrow_data = [states[i]] + annual_registration_amount\n",
    "        newrow_df = pd.DataFrame([newrow_data],columns = column_names) \n",
    "        EV_registration = pd.concat([EV_registration, newrow_df], axis='rows', ignore_index=True)\n",
    "    else:\n",
    "        print(states[i] + \" only has data in \" + str(table[\"Registration Valid Date\"].unique()) + \" among the period 2011-2018\")\n",
    "print(EV_registration)\n"
   ]
  }
 ],
 "metadata": {
  "interpreter": {
   "hash": "91bbbff043a5f69a1113fe6030611d1661a8599f3eadbcbc7152d18b943ceab6"
  },
  "kernelspec": {
   "display_name": "Python 3.9.10 64-bit (windows store)",
   "language": "python",
   "name": "python3"
  },
  "language_info": {
   "codemirror_mode": {
    "name": "ipython",
    "version": 3
   },
   "file_extension": ".py",
   "mimetype": "text/x-python",
   "name": "python",
   "nbconvert_exporter": "python",
   "pygments_lexer": "ipython3",
   "version": "3.9.10"
  },
  "orig_nbformat": 4
 },
 "nbformat": 4,
 "nbformat_minor": 2
}
