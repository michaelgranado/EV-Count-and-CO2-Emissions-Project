{
 "cells": [
  {
   "cell_type": "markdown",
   "metadata": {},
   "source": [
    "**Annual transportation-related CO2 emissions by state(2011-2018)**"
   ]
  },
  {
   "cell_type": "code",
   "execution_count": 2,
   "metadata": {},
   "outputs": [
    {
     "name": "stdout",
     "output_type": "stream",
     "text": [
      "          State   2011   2012   2013   2014   2015   2016   2017   2018\n",
      "0    California  194.0  190.3  189.8  191.0  195.9  203.8  209.5  210.6\n",
      "1      Colorado   28.6   28.4   28.4   29.3   28.8   29.4   29.8   30.7\n",
      "2   Connecticut   15.7   15.3   15.1   15.1   15.2   15.3   15.5   15.9\n",
      "3       Florida  105.7  103.7  105.2  106.9  110.7  113.3  115.6  121.7\n",
      "4      Michigan   49.7   48.8   50.9   50.4   52.1   52.8   51.9   53.5\n",
      "5     Minnesota   30.8   31.3   31.6   31.7   31.7   33.3   33.5   33.5\n",
      "6       Montana    8.1    7.9    8.0    7.8    7.6    7.9    8.1    8.1\n",
      "7    New Jersey   54.0   51.5   51.7   50.6   50.6   52.8   50.3   52.4\n",
      "8      New York   77.3   75.6   76.4   80.9   79.1   82.3   82.9   83.3\n",
      "9        Oregon   20.9   20.6   20.8   20.9   20.4   20.5   21.0   21.7\n",
      "10    Tennessee   42.2   40.8   41.0   42.1   42.8   43.6   44.0   44.6\n",
      "11        Texas  185.0  184.8  200.2  202.2  206.3  212.6  214.6  221.8\n",
      "12      Vermont    3.3    3.2    3.3    3.2    3.3    3.3    3.2    3.0\n",
      "13     Virginia   49.8   50.3   50.2   50.9   50.3   50.6   51.2   52.3\n",
      "14   Washington   39.4   39.7   40.5   39.5   42.0   47.4   45.4   45.2\n",
      "15    Wisconsin   28.6   28.5   28.2   30.3   29.9   29.7   29.2   31.0\n"
     ]
    }
   ],
   "source": [
    "import pandas as pd\n",
    "states = [\"California\", \"Colorado\", \"Connecticut\", \"Florida\", \"Montana\", \"Michigan\", \"Minnesota\", \"New Jersey\", \n",
    "          \"New York\", \"Oregon\", \"Tennessee\", \"Texas\", \"Vermont\", \"Virginia\", \"Washington\", \"Wisconsin\"]\n",
    "column_names = [\"State\", \"2011\", \"2012\", \"2013\", \"2014\", \"2015\", \"2016\", \"2017\", \"2018\"]\n",
    "petroleum_emissions = pd.read_excel(\"annual_transportation_related_CO2_emissions.xlsx\")\n",
    "petroleum_emissions = petroleum_emissions.iloc[1:-4,:-2]\n",
    "petroleum_emissions.drop(petroleum_emissions.iloc[:,1:-8], axis = \"columns\", inplace = True)\n",
    "petroleum_emissions.columns = column_names\n",
    "petroleum_emissions = petroleum_emissions.loc[petroleum_emissions[\"State\"].isin(states)]\n",
    "petroleum_emissions.reset_index(drop=True, inplace = True)\n",
    "print(petroleum_emissions)"
   ]
  }
 ],
 "metadata": {
  "interpreter": {
   "hash": "69eb92836b941e979072a76c7fcfffe5419cca933cedd02cfafbdfca1a93358c"
  },
  "kernelspec": {
   "display_name": "Python 3.9.10 64-bit",
   "language": "python",
   "name": "python3"
  },
  "language_info": {
   "codemirror_mode": {
    "name": "ipython",
    "version": 3
   },
   "file_extension": ".py",
   "mimetype": "text/x-python",
   "name": "python",
   "nbconvert_exporter": "python",
   "pygments_lexer": "ipython3",
   "version": "3.9.10"
  },
  "orig_nbformat": 4
 },
 "nbformat": 4,
 "nbformat_minor": 2
}
