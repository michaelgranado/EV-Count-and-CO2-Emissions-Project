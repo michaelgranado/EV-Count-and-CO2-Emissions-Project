{
 "cells": [
  {
   "cell_type": "markdown",
   "metadata": {},
   "source": [
    "# COGS 108 - Data Checkpoint"
   ]
  },
  {
   "cell_type": "markdown",
   "metadata": {},
   "source": [
    "# Names\n",
    "\n",
   "- Anurag Asthana\n",
    "- Michael Granado\n",
    "- Victorionna Tran\n",
    "- Alex Bumbalov\n",
    "- Tianyue (Terry) Zhang"
   ]
  },
  {
   "cell_type": "markdown",
   "metadata": {},
   "source": [
    "<a id='research_question'></a>\n",
    "# Research Question"
   ]
  },
  {
   "cell_type": "markdown",
   "metadata": {},
   "source": [
    "Is there a relationship between a state's number of electric vehicles and its total carbon emission count? Furthermore, how does a state's electric vehicle amount affect carbon emission amounts in regards to the state's electric-energy and petroleum-energy subsectors? "
   ]
  },
  {
   "cell_type": "markdown",
   "metadata": {},
   "source": [
    "# Dataset(s)"
   ]
  },
  {
   "cell_type": "markdown",
   "metadata": {},
   "source": [
 "- Dataset Name: Annual number of EVs (electric vehicles) registered by state(2011-2020)\n",
    "   - Link to the dataset: https://www.atlasevhub.com/materials/state-ev-registration-data/#data \n",
    "   - Number of observations: 16 datasets and each data set corresponds to a specific state, with over 1,000,000 observations per dataset\n",
    "   - There are 16 different datasets corresponding to 16 different states. Each of these datasets contains over 1,000,000 EV observations that contain information from variables including the vehicle registration year and model. There are specifically 16 states because only 16 states have had their information made public through the Open Vehicle Registration Initiative. We hope to make our own single dataset from these 16 datasets. Our single custom dataset will have 16 observations for each of the 16 states. The goal is to create 10 variables for each year 2011-2020 which display the count of registered EVs and correspond these to the 16 observations corresponding to the documented states. \n",
    "\n",
     " \n",
    "- Dataset Name: Annual energy-related CO2 emissions by state(2000-2018)\n",
    "   - Link to the dataset: https://www.eia.gov/environment/emissions/state/excel/table2.xlsx \n",
    "   - Number of observations: 50 observations(1 per state)\n",
    "   - This dataset contains an observation for each of the 50 U.S. states. Variables span from the years 2000-2018 and describe the million metric tons of carbon dioxide produced by energy production. We can trim this dataset down to the 16 states EV registration data about. Then, we can merge this dataset with the dataset containing EV registrations.\n",
    " \n",
     " \n",
    "- Dataset Name: Annual electricity energy-related carbon dioxide emissions by state(1980-2018)\n",
    "   - Link to the dataset: https://www.eia.gov/environment/emissions/state/excel/electricity.xlsx \n",
    "   - Number of observations: 50 observations(1 per state)\n",
    "   - This dataset contains an observation for each of the 50 U.S. states. Variables span from the years 1980-2018 and describe the million metric tons of carbon dioxide specifically produced by electric energy production. We can trim this dataset down to the 16 state observations recorded in the other datasets. Then, this dataset can be merged with the others.\n",
    "\n",
     " \n",
    "- Dataset Name: Annual electricity petroleum-related carbon dioxide emissions by state(1980-2018)\n",
    "   - Link to the dataset: https://www.eia.gov/environment/emissions/state/excel/transportation.xlsx \n",
    "   - Number of observations: 50 observations(1 per state)\n",
    "   - This dataset contains an observation for each of the 50 U.S. states. Variables span from the years 1980-2018 and describe the million metric tons of carbon dioxide specifically produced by petroleum energy production. We can trim this dataset down to the 16 state observations recorded in the other datasets. Then, this dataset can be merged with the others.\n",
    "  \n",
    "\n",
    "**Combining Datasets:** Our end goal is to have our own comple
   ]
  },
  {
   "cell_type": "markdown",
   "metadata": {},
   "source": [
    "# Setup"
   ]
  },
  {
   "cell_type": "code",
   "execution_count": 1,
   "metadata": {},
   "outputs": [],
   "source": [
    "## YOUR CODE HERE"
   ]
  },
  {
   "cell_type": "markdown",
   "metadata": {},
   "source": [
    "# Data Cleaning"
   ]
  },
  {
   "cell_type": "markdown",
   "metadata": {},
   "source": [
    "Describe your data cleaning steps here."
   ]
  },
  {
   "cell_type": "code",
   "execution_count": 2,
   "metadata": {},
   "outputs": [],
   "source": [
    "## YOUR CODE HERE\n",
    "## FEEL FREE TO ADD MULTIPLE CELLS PER SECTION"
   ]
  }
 ],
 "metadata": {
  "kernelspec": {
   "display_name": "Python 3",
   "language": "python",
   "name": "python3"
  },
  "language_info": {
   "codemirror_mode": {
    "name": "ipython",
    "version": 3
   },
   "file_extension": ".py",
   "mimetype": "text/x-python",
   "name": "python",
   "nbconvert_exporter": "python",
   "pygments_lexer": "ipython3",
   "version": "3.7.9"
  }
 },
 "nbformat": 4,
 "nbformat_minor": 2
}
