{
 "cells": [
  {
   "cell_type": "markdown",
   "metadata": {},
   "source": [
    "# COGS 108 - Data Checkpoint"
   ]
  },
  {
   "cell_type": "markdown",
   "metadata": {},
   "source": [
    "# Names\n",
    "\n",
    "- Anurag Asthana\n",
    "- Michael Granado\n",
    "- Victorionna Tran\n",
    "- Alex Bumbalov\n",
    "- Tianyue (Terry) Zhang"
   ]
  },
  {
   "cell_type": "markdown",
   "metadata": {},
   "source": [
    "<a id='research_question'></a>\n",
    "# Research Question"
   ]
  },
  {
   "cell_type": "markdown",
   "metadata": {},
   "source": [
    "Is there a relationship between a state's number of electric vehicles and its total carbon emission count? Furthermore, how does a state's electric vehicle amount affect carbon emission amounts in regards to the state's electric-energy and petroleum-energy subsectors? "
   ]
  },
  {
   "cell_type": "markdown",
   "metadata": {},
   "source": [
    "# Dataset(s)"
   ]
  },
  {
   "cell_type": "markdown",
   "metadata": {},
   "source": [
    "- Dataset Name: Annual number of EVs (electric vehicles) registered by state(2011-2020)\n",
    "   - Link to the dataset: https://www.atlasevhub.com/materials/state-ev-registration-data/#data \n",
    "   - Number of observations: 16 datasets and each data set corresponds to a specific state, with over 1,000,000 observations per dataset\n",
    "   - There are 16 different datasets corresponding to 16 different states. Each of these datasets contains over 1,000,000 EV observations that contain information from variables including the vehicle registration year and model. There are specifically 16 states because only 16 states have had their information made public through the Open Vehicle Registration Initiative. We hope to make our own single dataset from these 16 datasets. Our single custom dataset will have 16 observations for each of the 16 states. The goal is to create 10 variables for each year 2011-2020 which display the count of registered EVs and correspond these to the 16 observations corresponding to the documented states. \n",
    "\n",
    " \n",
    "- Dataset Name: Annual energy-related CO2 emissions by state(2000-2018) in million metric tons\n",
    "   - Link to the dataset: https://www.eia.gov/environment/emissions/state/excel/table2.xlsx \n",
    "   - Number of observations: 50 observations(1 per state)\n",
    "   - This dataset contains an observation for each of the 50 U.S. states. Variables span from the years 2000-2018 and describe the million metric tons of carbon dioxide produced by energy production. We can trim this dataset down to the 16 states EV registration data about. Then, we can merge this dataset with the dataset containing EV registrations.\n",
    " \n",
    " \n",
    "- Dataset Name: Annual electricity energy-related carbon dioxide emissions by state(1980-2018) in million metric tons\n",
    "   - Link to the dataset: https://www.eia.gov/environment/emissions/state/excel/electricity.xlsx \n",
    "   - Number of observations: 50 observations(1 per state)\n",
    "   - This dataset contains an observation for each of the 50 U.S. states. Variables span from the years 1980-2018 and describe the million metric tons of carbon dioxide specifically produced by electric energy production. We can trim this dataset down to the 16 state observations recorded in the other datasets. Then, this dataset can be merged with the others.\n",
    "\n",
    " \n",
    "- Dataset Name: Annual electricity petroleum-related carbon dioxide emissions by state(1980-2018) in million metric tons\n",
    "   - Link to the dataset: https://www.eia.gov/environment/emissions/state/excel/transportation.xlsx \n",
    "   - Number of observations: 50 observations(1 per state)\n",
    "   - This dataset contains an observation for each of the 50 U.S. states. Variables span from the years 1980-2018 and describe the million metric tons of carbon dioxide specifically produced by petroleum energy production. We can trim this dataset down to the 16 state observations recorded in the other datasets. Then, this dataset can be merged with the others.\n",
    "  \n",
    "\n",
    "**Combining Datasets:** Our end goal is to have our own complete custom dataset which contains 128. We choose 128 observations because we will have 16 states and 8 years ranging from 2011-2018 associated with each state. We choose 16 states because those states have the public EV registration data. We choose the years 2011-2018 because these years are commonly intersected among all datasets. Our variables will consist of the number of EVs registered, metric million tons of energy-related CO2 emissions, metric million tons of electricity energy-related carbon dioxide emissions, and metric million tons of petroleum energy-related carbon dioxide emissions."
   ]
  },
  {
   "cell_type": "markdown",
   "metadata": {},
   "source": [
    "# Setup"
   ]
  },
  {
   "cell_type": "code",
   "execution_count": 1,
   "metadata": {},
   "outputs": [],
   "source": [
    "# Libraries that will be used\n",
    "import numpy as np\n",
    "import pandas as pd\n",
    "\n",
    "# Display options for Pandas DataFrames\n",
    "pd.set_option(\"display.max_columns\", None)\n",
    "pd.set_option(\"display.max_rows\", None)\n",
    "\n",
    "# List of states that the data will be filtered by\n",
    "states = [\"California\", \"Colorado\", \"Connecticut\", \"Florida\", \"Montana\", \"Michigan\", \"Minnesota\", \"New Jersey\", \n",
    "            \"New York\", \"Oregon\", \"Tennessee\", \"Texas\", \"Vermont\", \"Virginia\", \"Washington\", \"Wisconsin\"]\n",
    "\n",
    "# List of years that the data will be filtered by (2011-2018 inclusive)\n",
    "years = range(2011,2019)"
   ]
  },
  {
   "cell_type": "markdown",
   "metadata": {},
   "source": [
    "# Data Cleaning"
   ]
  },
  {
   "cell_type": "markdown",
   "metadata": {},
   "source": [
    "Describe your data cleaning steps here."
   ]
  },
  {
   "cell_type": "markdown",
   "metadata": {},
   "source": [
    "### Annual number of EVs (electric vehicles) registered by state"
   ]
  },
  {
   "cell_type": "code",
   "execution_count": 2,
   "metadata": {},
   "outputs": [],
   "source": [
    "## Annual number of EVs (electric vehicles) registered by state"
   ]
  },
  {
   "cell_type": "markdown",
   "metadata": {},
   "source": [
    "### Annual energy-related CO2 emissions by state (in million metric tons)"
   ]
  },
  {
   "cell_type": "code",
   "execution_count": 3,
   "metadata": {},
   "outputs": [],
   "source": [
    "## Annual energy-related CO2 emissions by state"
   ]
  },
  {
   "cell_type": "markdown",
   "metadata": {},
   "source": [
    "### Annual electricity energy-related carbon dioxide emissions by state (in million metric tons)"
   ]
  },
  {
   "cell_type": "code",
   "execution_count": 4,
   "metadata": {},
   "outputs": [
    {
     "data": {
      "text/html": [
       "<div>\n",
       "<style scoped>\n",
       "    .dataframe tbody tr th:only-of-type {\n",
       "        vertical-align: middle;\n",
       "    }\n",
       "\n",
       "    .dataframe tbody tr th {\n",
       "        vertical-align: top;\n",
       "    }\n",
       "\n",
       "    .dataframe thead th {\n",
       "        text-align: right;\n",
       "    }\n",
       "</style>\n",
       "<table border=\"1\" class=\"dataframe\">\n",
       "  <thead>\n",
       "    <tr style=\"text-align: right;\">\n",
       "      <th></th>\n",
       "      <th>State</th>\n",
       "      <th>2011</th>\n",
       "      <th>2012</th>\n",
       "      <th>2013</th>\n",
       "      <th>2014</th>\n",
       "      <th>2015</th>\n",
       "      <th>2016</th>\n",
       "      <th>2017</th>\n",
       "      <th>2018</th>\n",
       "    </tr>\n",
       "  </thead>\n",
       "  <tbody>\n",
       "    <tr>\n",
       "      <th>0</th>\n",
       "      <td>California</td>\n",
       "      <td>36.4</td>\n",
       "      <td>48.0</td>\n",
       "      <td>45.7</td>\n",
       "      <td>46.3</td>\n",
       "      <td>44.3</td>\n",
       "      <td>36.6</td>\n",
       "      <td>33.0</td>\n",
       "      <td>33.7</td>\n",
       "    </tr>\n",
       "    <tr>\n",
       "      <th>1</th>\n",
       "      <td>Colorado</td>\n",
       "      <td>39.3</td>\n",
       "      <td>39.5</td>\n",
       "      <td>39.0</td>\n",
       "      <td>38.1</td>\n",
       "      <td>37.0</td>\n",
       "      <td>35.7</td>\n",
       "      <td>35.2</td>\n",
       "      <td>34.2</td>\n",
       "    </tr>\n",
       "    <tr>\n",
       "      <th>2</th>\n",
       "      <td>Connecticut</td>\n",
       "      <td>6.6</td>\n",
       "      <td>7.2</td>\n",
       "      <td>6.8</td>\n",
       "      <td>6.7</td>\n",
       "      <td>7.4</td>\n",
       "      <td>7.0</td>\n",
       "      <td>6.3</td>\n",
       "      <td>8.1</td>\n",
       "    </tr>\n",
       "    <tr>\n",
       "      <th>3</th>\n",
       "      <td>Florida</td>\n",
       "      <td>111.0</td>\n",
       "      <td>107.5</td>\n",
       "      <td>105.2</td>\n",
       "      <td>109.8</td>\n",
       "      <td>108.1</td>\n",
       "      <td>106.4</td>\n",
       "      <td>103.4</td>\n",
       "      <td>100.9</td>\n",
       "    </tr>\n",
       "    <tr>\n",
       "      <th>4</th>\n",
       "      <td>Michigan</td>\n",
       "      <td>65.6</td>\n",
       "      <td>63.5</td>\n",
       "      <td>62.7</td>\n",
       "      <td>60.2</td>\n",
       "      <td>63.0</td>\n",
       "      <td>55.6</td>\n",
       "      <td>55.7</td>\n",
       "      <td>58.9</td>\n",
       "    </tr>\n",
       "    <tr>\n",
       "      <th>5</th>\n",
       "      <td>Minnesota</td>\n",
       "      <td>29.3</td>\n",
       "      <td>25.7</td>\n",
       "      <td>26.0</td>\n",
       "      <td>29.4</td>\n",
       "      <td>27.2</td>\n",
       "      <td>26.7</td>\n",
       "      <td>25.3</td>\n",
       "      <td>26.7</td>\n",
       "    </tr>\n",
       "    <tr>\n",
       "      <th>6</th>\n",
       "      <td>Montana</td>\n",
       "      <td>16.7</td>\n",
       "      <td>15.7</td>\n",
       "      <td>16.6</td>\n",
       "      <td>17.3</td>\n",
       "      <td>17.8</td>\n",
       "      <td>16.1</td>\n",
       "      <td>15.5</td>\n",
       "      <td>15.1</td>\n",
       "    </tr>\n",
       "    <tr>\n",
       "      <th>7</th>\n",
       "      <td>New Jersey</td>\n",
       "      <td>15.7</td>\n",
       "      <td>14.9</td>\n",
       "      <td>14.4</td>\n",
       "      <td>16.8</td>\n",
       "      <td>17.9</td>\n",
       "      <td>19.7</td>\n",
       "      <td>16.7</td>\n",
       "      <td>17.4</td>\n",
       "    </tr>\n",
       "    <tr>\n",
       "      <th>8</th>\n",
       "      <td>New York</td>\n",
       "      <td>33.9</td>\n",
       "      <td>32.3</td>\n",
       "      <td>30.1</td>\n",
       "      <td>30.6</td>\n",
       "      <td>29.2</td>\n",
       "      <td>27.8</td>\n",
       "      <td>22.1</td>\n",
       "      <td>24.5</td>\n",
       "    </tr>\n",
       "    <tr>\n",
       "      <th>9</th>\n",
       "      <td>Oregon</td>\n",
       "      <td>6.4</td>\n",
       "      <td>7.0</td>\n",
       "      <td>9.1</td>\n",
       "      <td>8.0</td>\n",
       "      <td>8.6</td>\n",
       "      <td>7.8</td>\n",
       "      <td>7.5</td>\n",
       "      <td>8.4</td>\n",
       "    </tr>\n",
       "    <tr>\n",
       "      <th>10</th>\n",
       "      <td>Tennessee</td>\n",
       "      <td>41.0</td>\n",
       "      <td>37.7</td>\n",
       "      <td>33.9</td>\n",
       "      <td>37.5</td>\n",
       "      <td>33.9</td>\n",
       "      <td>36.2</td>\n",
       "      <td>32.3</td>\n",
       "      <td>26.1</td>\n",
       "    </tr>\n",
       "    <tr>\n",
       "      <th>11</th>\n",
       "      <td>Texas</td>\n",
       "      <td>239.5</td>\n",
       "      <td>223.7</td>\n",
       "      <td>227.9</td>\n",
       "      <td>226.5</td>\n",
       "      <td>215.1</td>\n",
       "      <td>209.0</td>\n",
       "      <td>212.5</td>\n",
       "      <td>202.3</td>\n",
       "    </tr>\n",
       "    <tr>\n",
       "      <th>12</th>\n",
       "      <td>Vermont</td>\n",
       "      <td>0.0</td>\n",
       "      <td>0.0</td>\n",
       "      <td>0.0</td>\n",
       "      <td>0.0</td>\n",
       "      <td>0.0</td>\n",
       "      <td>0.0</td>\n",
       "      <td>0.0</td>\n",
       "      <td>0.0</td>\n",
       "    </tr>\n",
       "    <tr>\n",
       "      <th>13</th>\n",
       "      <td>Virginia</td>\n",
       "      <td>28.7</td>\n",
       "      <td>25.3</td>\n",
       "      <td>31.1</td>\n",
       "      <td>30.5</td>\n",
       "      <td>32.0</td>\n",
       "      <td>33.8</td>\n",
       "      <td>28.8</td>\n",
       "      <td>30.6</td>\n",
       "    </tr>\n",
       "    <tr>\n",
       "      <th>14</th>\n",
       "      <td>Washington</td>\n",
       "      <td>7.4</td>\n",
       "      <td>6.2</td>\n",
       "      <td>11.7</td>\n",
       "      <td>11.7</td>\n",
       "      <td>10.9</td>\n",
       "      <td>9.6</td>\n",
       "      <td>10.4</td>\n",
       "      <td>10.1</td>\n",
       "    </tr>\n",
       "    <tr>\n",
       "      <th>15</th>\n",
       "      <td>Wisconsin</td>\n",
       "      <td>42.3</td>\n",
       "      <td>37.4</td>\n",
       "      <td>43.8</td>\n",
       "      <td>40.1</td>\n",
       "      <td>42.0</td>\n",
       "      <td>38.9</td>\n",
       "      <td>41.2</td>\n",
       "      <td>39.9</td>\n",
       "    </tr>\n",
       "  </tbody>\n",
       "</table>\n",
       "</div>"
      ],
      "text/plain": [
       "          State   2011   2012   2013   2014   2015   2016   2017   2018\n",
       "0    California   36.4   48.0   45.7   46.3   44.3   36.6   33.0   33.7\n",
       "1      Colorado   39.3   39.5   39.0   38.1   37.0   35.7   35.2   34.2\n",
       "2   Connecticut    6.6    7.2    6.8    6.7    7.4    7.0    6.3    8.1\n",
       "3       Florida  111.0  107.5  105.2  109.8  108.1  106.4  103.4  100.9\n",
       "4      Michigan   65.6   63.5   62.7   60.2   63.0   55.6   55.7   58.9\n",
       "5     Minnesota   29.3   25.7   26.0   29.4   27.2   26.7   25.3   26.7\n",
       "6       Montana   16.7   15.7   16.6   17.3   17.8   16.1   15.5   15.1\n",
       "7    New Jersey   15.7   14.9   14.4   16.8   17.9   19.7   16.7   17.4\n",
       "8      New York   33.9   32.3   30.1   30.6   29.2   27.8   22.1   24.5\n",
       "9        Oregon    6.4    7.0    9.1    8.0    8.6    7.8    7.5    8.4\n",
       "10    Tennessee   41.0   37.7   33.9   37.5   33.9   36.2   32.3   26.1\n",
       "11        Texas  239.5  223.7  227.9  226.5  215.1  209.0  212.5  202.3\n",
       "12      Vermont    0.0    0.0    0.0    0.0    0.0    0.0    0.0    0.0\n",
       "13     Virginia   28.7   25.3   31.1   30.5   32.0   33.8   28.8   30.6\n",
       "14   Washington    7.4    6.2   11.7   11.7   10.9    9.6   10.4   10.1\n",
       "15    Wisconsin   42.3   37.4   43.8   40.1   42.0   38.9   41.2   39.9"
      ]
     },
     "execution_count": 4,
     "metadata": {},
     "output_type": "execute_result"
    }
   ],
   "source": [
    "## Annual electricity energy-related carbon dioxide emissions by state (in million metric tons)\n",
    "\n",
    "# Reading in the dataset as a csv (modified from original to exclude empty rows and column names)\n",
    "electric_energy_CO2_by_state = pd.read_csv(\"datawrangling/annual_electricity_related_CO2_emissions.csv\")\n",
    "\n",
    "# Filtering by the states in the EV dataset\n",
    "electric_energy_CO2_by_state = electric_energy_CO2_by_state.loc[(electric_energy_CO2_by_state[\"State\"].isin(states))]\n",
    "\n",
    "# Filtering from the years 2011 to 2018\n",
    "str_years = [str(i) for i in years]\n",
    "electric_energy_CO2_by_state = electric_energy_CO2_by_state[[\"State\"] + str_years]\n",
    "\n",
    "# Resetting the indices of the dataframe\n",
    "electric_energy_CO2_by_state.reset_index(drop=True, inplace=True)\n",
    "electric_energy_CO2_by_state"
   ]
  },
  {
   "cell_type": "markdown",
   "metadata": {},
   "source": [
    "This data is very clean as information for all states listed is provided. The only small issue is that Vermont does not produce even close to a million metric tons of annual CO2 emissions through electricity and thus using the Vermont data may prove to be somewhat unworkable. The data was initially provided through [this site](https://www.eia.gov/environment/emissions/state/excel/electricity.xlsx) which had column names that were impractical to use. By removing the unnecessary column names as well as a row that contributed no data whatsoever, we were able to generate a more useful data table that could be easily utilized through Pandas. With Pandas, we were able to limit the range of the years from 2011 to 2019 as well as limit the states to the states that have EV registration data to produce the dataframe seen above. "
   ]
  },
  {
   "cell_type": "markdown",
   "metadata": {},
   "source": [
    "### Annual electricity petroleum-related carbon dioxide emissions by state (in million metric tons)"
   ]
  },
  {
   "cell_type": "code",
   "execution_count": 5,
   "metadata": {},
   "outputs": [],
   "source": [
    "## Annual electricity petroleum-related carbon dioxide emissions by state"
   ]
  }
 ],
 "metadata": {
  "kernelspec": {
   "display_name": "Python 3 (ipykernel)",
   "language": "python",
   "name": "python3"
  },
  "language_info": {
   "codemirror_mode": {
    "name": "ipython",
    "version": 3
   },
   "file_extension": ".py",
   "mimetype": "text/x-python",
   "name": "python",
   "nbconvert_exporter": "python",
   "pygments_lexer": "ipython3",
   "version": "3.8.2"
  }
 },
 "nbformat": 4,
 "nbformat_minor": 2
}
